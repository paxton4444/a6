{
 "cells": [
  {
   "cell_type": "code",
   "execution_count": 92,
   "metadata": {},
   "outputs": [],
   "source": [
    "from __future__ import print_function\n",
    "from __future__ import division\n",
    "import MySQLdb\n",
    "import sys\n",
    "import pandas as pd\n",
    "%matplotlib inline\n",
    "from matplotlib import pyplot as plt\n",
    "from matplotlib.patches import Rectangle\n",
    "import matplotlib.ticker as plticker\n",
    "pwd = \"\"\"|T0<n'jM\"I<,\"\"\"\n",
    "db_connection = MySQLdb.connect(host=\"db-ro.precog.hubteam.com\",user=\"app_precog\",passwd=pwd)\n",
    "c = db_connection.cursor()\n",
    "query = \"\"\"\n",
    "SELECT * \n",
    "FROM Precog.healthScore\n",
    "ORDER BY numSends DESC\n",
    "\"\"\"\n",
    "# Get data from database\n",
    "try:\n",
    "    c.execute(query)\n",
    "    rows = c.fetchall()\n",
    "except MySQLdb.Error, e:\n",
    "    try:\n",
    "        print(\"MySQL Error [30]: %s\" % (e.args[0], e.args[1]))\n",
    "    except IndexError:\n",
    "        print(\"MySQL Error: %s\" % str(e))\n",
    "# Use pandas to read it into a dataframe\n",
    "df = pd.read_sql(query, con=db_connection)"
   ]
  },
  {
   "cell_type": "code",
   "execution_count": 158,
   "metadata": {},
   "outputs": [
    {
     "name": "stdout",
     "output_type": "stream",
     "text": [
      "Total customers emailing\n"
     ]
    },
    {
     "data": {
      "text/plain": [
       "21794"
      ]
     },
     "execution_count": 158,
     "metadata": {},
     "output_type": "execute_result"
    }
   ],
   "source": [
    "print('Total customers emailing')\n",
    "df.shape[0]"
   ]
  },
  {
   "cell_type": "code",
   "execution_count": 131,
   "metadata": {},
   "outputs": [
    {
     "name": "stdout",
     "output_type": "stream",
     "text": [
      "click rate\n"
     ]
    },
    {
     "data": {
      "text/plain": [
       "13.418520484057717"
      ]
     },
     "execution_count": 131,
     "metadata": {},
     "output_type": "execute_result"
    },
    {
     "data": {
      "image/png": "[encoded data removed]",
      "text/plain": [
       "<matplotlib.figure.Figure at 0x1223bafd0>"
      ]
     },
     "metadata": {},
     "output_type": "display_data"
    }
   ],
   "source": [
    "wawtah = df['clickThroughRatio']\n",
    "wawtahs = 'click rate'\n",
    "\n",
    "wawtah.hist(bins=40, color='orange').tick_params(colors='black')\n",
    "plt.xlabel(wawtahs, color='black')\n",
    "plt.ylabel('portals', color='black')\n",
    "plt.legend(['last 30 days'])\n",
    "axes = plt.gca()\n",
    "xmax = wawtah.mean()+30\n",
    "axes.set_xlim([0,xmax])\n",
    "plt.tick_params(\n",
    "    axis='x',          # changes apply to the x-axis\n",
    "    which='both',      # both major and minor ticks are affected\n",
    "    bottom='on',      # ticks along the bottom edge are off\n",
    "    top='off',         # ticks along the top edge are off\n",
    "    labelbottom='on', # labels along the bottom edge are off\n",
    "    direction='in',\n",
    "    length=5\n",
    ")\n",
    "print(wawtahs)\n",
    "wawtah.mean()"
   ]
  },
  {
   "cell_type": "code",
   "execution_count": 149,
   "metadata": {},
   "outputs": [
    {
     "name": "stdout",
     "output_type": "stream",
     "text": [
      "hard bounce rate\n"
     ]
    },
    {
     "data": {
      "text/plain": [
       "1.3528648749568355"
      ]
     },
     "execution_count": 149,
     "metadata": {},
     "output_type": "execute_result"
    },
    {
     "data": {
      "image/png": "[encoded data removed]",
      "text/plain": [
       "<matplotlib.figure.Figure at 0x113ab7690>"
      ]
     },
     "metadata": {},
     "output_type": "display_data"
    }
   ],
   "source": [
    "wawtah = df['hardBounceRatio']\n",
    "wawtahs = 'hard bounce rate'\n",
    "\n",
    "wawtah.hist(bins=40, color='orange').tick_params(colors='black')\n",
    "plt.xlabel(wawtahs, color='black')\n",
    "plt.ylabel('portals', color='black')\n",
    "plt.legend(['last 30 days'])\n",
    "axes = plt.gca()\n",
    "xmax = 5\n",
    "axes.set_xlim([0,xmax])\n",
    "plt.tick_params(\n",
    "    axis='x',          # changes apply to the x-axis\n",
    "    which='both',      # both major and minor ticks are affected\n",
    "    bottom='on',      # ticks along the bottom edge are off\n",
    "    top='off',         # ticks along the top edge are off\n",
    "    labelbottom='on', # labels along the bottom edge are off\n",
    "    direction='in',\n",
    "    length=5\n",
    ")\n",
    "print(wawtahs)\n",
    "wawtah.mean()"
   ]
  },
  {
   "cell_type": "code",
   "execution_count": 147,
   "metadata": {},
   "outputs": [
    {
     "name": "stdout",
     "output_type": "stream",
     "text": [
      "open rate\n"
     ]
    },
    {
     "data": {
      "text/plain": [
       "27.327261826727053"
      ]
     },
     "execution_count": 147,
     "metadata": {},
     "output_type": "execute_result"
    },
    {
     "data": {
      "image/png": "[encoded data removed]",
      "text/plain": [
       "<matplotlib.figure.Figure at 0x11fe0e850>"
      ]
     },
     "metadata": {},
     "output_type": "display_data"
    }
   ],
   "source": [
    "wawtah = df['openRatio']\n",
    "wawtahs = 'open rate'\n",
    "\n",
    "wawtah.hist(bins=40, color='orange').tick_params(colors='black')\n",
    "plt.xlabel(wawtahs, color='black')\n",
    "plt.ylabel('portals', color='black')\n",
    "plt.legend(['last 30 days'])\n",
    "axes = plt.gca()\n",
    "xmax = 75\n",
    "axes.set_xlim([0,xmax])\n",
    "plt.tick_params(\n",
    "    axis='x',          # changes apply to the x-axis\n",
    "    which='both',      # both major and minor ticks are affected\n",
    "    bottom='on',      # ticks along the bottom edge are off\n",
    "    top='off',         # ticks along the top edge are off\n",
    "    labelbottom='on', # labels along the bottom edge are off\n",
    "    direction='in',\n",
    "    length=5\n",
    ")\n",
    "print(wawtahs)\n",
    "wawtah.mean()"
   ]
  },
  {
   "cell_type": "code",
   "execution_count": 141,
   "metadata": {},
   "outputs": [
    {
     "name": "stdout",
     "output_type": "stream",
     "text": [
      "unsubscribe per open rate\n"
     ]
    },
    {
     "data": {
      "text/plain": [
       "2.5486504917734996"
      ]
     },
     "execution_count": 141,
     "metadata": {},
     "output_type": "execute_result"
    },
    {
     "data": {
      "image/png": "[encoded data removed]",
      "text/plain": [
       "<matplotlib.figure.Figure at 0x113c26590>"
      ]
     },
     "metadata": {},
     "output_type": "display_data"
    }
   ],
   "source": [
    "wawtah = df['unsubscribePerOpenRatio']\n",
    "wawtahs = 'unsubscribe per open rate'\n",
    "\n",
    "wawtah.hist(bins=40, color='orange').tick_params(colors='black')\n",
    "plt.xlabel(wawtahs, color='black')\n",
    "plt.ylabel('portals', color='black')\n",
    "plt.legend(['last 30 days'])\n",
    "axes = plt.gca()\n",
    "xmax = wawtah.mean()*3\n",
    "axes.set_xlim([0,xmax])\n",
    "plt.tick_params(\n",
    "    axis='x',          # changes apply to the x-axis\n",
    "    which='both',      # both major and minor ticks are affected\n",
    "    bottom='on',      # ticks along the bottom edge are off\n",
    "    top='off',         # ticks along the top edge are off\n",
    "    labelbottom='on', # labels along the bottom edge are off\n",
    "    direction='in',\n",
    "    length=5\n",
    ")\n",
    "print(wawtahs)\n",
    "wawtah.mean()"
   ]
  },
  {
   "cell_type": "code",
   "execution_count": 152,
   "metadata": {},
   "outputs": [
    {
     "name": "stdout",
     "output_type": "stream",
     "text": [
      "overall score\n"
     ]
    },
    {
     "data": {
      "text/plain": [
       "58.960401945489586"
      ]
     },
     "execution_count": 152,
     "metadata": {},
     "output_type": "execute_result"
    },
    {
     "data": {
      "image/png": "[encoded data removed]",
      "text/plain": [
       "<matplotlib.figure.Figure at 0x122b2d150>"
      ]
     },
     "metadata": {},
     "output_type": "display_data"
    }
   ],
   "source": [
    "wawtah = df['overallScore']\n",
    "wawtahs = 'overall score'\n",
    "\n",
    "wawtah.hist(bins=40, color='orange').tick_params(colors='black')\n",
    "plt.xlabel(wawtahs, color='black')\n",
    "plt.ylabel('portals', color='black')\n",
    "plt.legend(['last 30 days'])\n",
    "axes = plt.gca()\n",
    "xmax = 100\n",
    "axes.set_xlim([0,xmax])\n",
    "plt.tick_params(\n",
    "    axis='x',          # changes apply to the x-axis\n",
    "    which='both',      # both major and minor ticks are affected\n",
    "    bottom='on',      # ticks along the bottom edge are off\n",
    "    top='off',         # ticks along the top edge are off\n",
    "    labelbottom='on', # labels along the bottom edge are off\n",
    "    direction='in',\n",
    "    length=5\n",
    ")\n",
    "print(wawtahs)\n",
    "wawtah.mean()"
   ]
  }
 ],
 "metadata": {
  "kernelspec": {
   "display_name": "Python 2",
   "language": "python",
   "name": "python2"
  },
  "language_info": {
   "codemirror_mode": {
    "name": "ipython",
    "version": 2
   },
   "file_extension": ".py",
   "mimetype": "text/x-python",
   "name": "python",
   "nbconvert_exporter": "python",
   "pygments_lexer": "ipython2",
   "version": "2.7.14"
  }
 },
 "nbformat": 4,
 "nbformat_minor": 2
}
